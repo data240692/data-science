{
 "cells": [
  {
   "cell_type": "code",
   "execution_count": 1,
   "id": "62d3bbb6",
   "metadata": {},
   "outputs": [
    {
     "name": "stdout",
     "output_type": "stream",
     "text": [
      "Hello data science students\n"
     ]
    }
   ],
   "source": [
    "print(\"Hello data science students\")"
   ]
  },
  {
   "cell_type": "code",
   "execution_count": 2,
   "id": "f0a99b7b",
   "metadata": {},
   "outputs": [
    {
     "name": "stdout",
     "output_type": "stream",
     "text": [
      "Rahima Beevi\n"
     ]
    }
   ],
   "source": [
    "print(\"Rahima Beevi\")"
   ]
  },
  {
   "cell_type": "code",
   "execution_count": 3,
   "id": "dfecabc0",
   "metadata": {},
   "outputs": [
    {
     "name": "stdout",
     "output_type": "stream",
     "text": [
      "salman khan\n"
     ]
    }
   ],
   "source": [
    "print(\"salman khan\")"
   ]
  },
  {
   "cell_type": "code",
   "execution_count": 4,
   "id": "9392673a",
   "metadata": {},
   "outputs": [
    {
     "data": {
      "text/plain": [
       "15"
      ]
     },
     "execution_count": 4,
     "metadata": {},
     "output_type": "execute_result"
    }
   ],
   "source": [
    "12+3"
   ]
  },
  {
   "cell_type": "code",
   "execution_count": 5,
   "id": "dd3db618",
   "metadata": {},
   "outputs": [
    {
     "data": {
      "text/plain": [
       "48"
      ]
     },
     "execution_count": 5,
     "metadata": {},
     "output_type": "execute_result"
    }
   ],
   "source": [
    "24*2"
   ]
  },
  {
   "cell_type": "code",
   "execution_count": 6,
   "id": "c161f820",
   "metadata": {},
   "outputs": [
    {
     "data": {
      "text/plain": [
       "5.0"
      ]
     },
     "execution_count": 6,
     "metadata": {},
     "output_type": "execute_result"
    }
   ],
   "source": [
    "15/3"
   ]
  },
  {
   "cell_type": "markdown",
   "id": "9df589c7",
   "metadata": {},
   "source": [
    "Raiyan khan and Sarah"
   ]
  }
 ],
 "metadata": {
  "kernelspec": {
   "display_name": "Python 3 (ipykernel)",
   "language": "python",
   "name": "python3"
  },
  "language_info": {
   "codemirror_mode": {
    "name": "ipython",
    "version": 3
   },
   "file_extension": ".py",
   "mimetype": "text/x-python",
   "name": "python",
   "nbconvert_exporter": "python",
   "pygments_lexer": "ipython3",
   "version": "3.11.4"
  }
 },
 "nbformat": 4,
 "nbformat_minor": 5
}
